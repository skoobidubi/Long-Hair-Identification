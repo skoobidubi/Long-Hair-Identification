{
  "nbformat": 4,
  "nbformat_minor": 0,
  "metadata": {
    "colab": {
      "provenance": []
    },
    "kernelspec": {
      "name": "python3",
      "display_name": "Python 3"
    },
    "language_info": {
      "name": "python"
    }
  },
  "cells": [
    {
      "cell_type": "code",
      "execution_count": null,
      "metadata": {
        "id": "7_o1we2kKHBF"
      },
      "outputs": [],
      "source": [
        "import tkinter as tk\n",
        "from tkinter import filedialog\n",
        "from PIL import Image, ImageTk\n",
        "import numpy as np\n",
        "import cv2\n",
        "import tensorflow as tf\n",
        "\n",
        "# Load the trained model\n",
        "model = tf.keras.models.load_model('gender_model.h5')\n",
        "\n",
        "# Function to load and preprocess image\n",
        "def load_image(image_path):\n",
        "    img = cv2.imread(image_path)\n",
        "    img = cv2.resize(img, (224, 224))\n",
        "    img = img / 255.0\n",
        "    img = np.expand_dims(img, axis=0)\n",
        "    return img\n",
        "\n",
        "# Function to predict gender\n",
        "def predict_gender(image_path):\n",
        "    img = load_image(image_path)\n",
        "    prediction = model.predict(img)\n",
        "    label = 'Female' if np.argmax(prediction) == 0 else 'Male'\n",
        "    return label\n",
        "\n",
        "# Create GUI window\n",
        "root = tk.Tk()\n",
        "root.title(\"Gender Prediction\")\n",
        "\n",
        "# Upload and predict function\n",
        "def upload_and_predict():\n",
        "    file_path = filedialog.askopenfilename()\n",
        "    if file_path:\n",
        "        image = Image.open(file_path)\n",
        "        image = image.resize((224, 224), Image.ANTIALIAS)\n",
        "        image = ImageTk.PhotoImage(image)\n",
        "\n",
        "        panel = tk.Label(root, image=image)\n",
        "        panel.image = image\n",
        "        panel.grid(row=1, column=0, padx=10, pady=10)\n",
        "\n",
        "        prediction = predict_gender(file_path)\n",
        "        result_label.config(text=f\"Predicted Gender: {prediction}\")\n",
        "\n",
        "# Create GUI components\n",
        "upload_btn = tk.Button(root, text=\"Upload Image\", command=upload_and_predict)\n",
        "upload_btn.grid(row=0, column=0, padx=10, pady=10)\n",
        "\n",
        "result_label = tk.Label(root, text=\"Predicted Gender: \")\n",
        "result_label.grid(row=2, column=0, padx=10, pady=10)\n",
        "\n",
        "# Run the GUI loop\n",
        "root.mainloop()\n"
      ]
    }
  ]
}